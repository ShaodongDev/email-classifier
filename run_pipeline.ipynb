{
 "cells": [
  {
   "cell_type": "markdown",
   "id": "679b197a",
   "metadata": {},
   "source": [
    "# ETL"
   ]
  },
  {
   "cell_type": "code",
   "execution_count": 1,
   "id": "bba8b300",
   "metadata": {},
   "outputs": [],
   "source": [
    "from clean_update import update"
   ]
  },
  {
   "cell_type": "code",
   "execution_count": null,
   "id": "153af12e",
   "metadata": {},
   "outputs": [
    {
     "name": "stdout",
     "output_type": "stream",
     "text": [
      "✅ db/dataset.db has been updated with 30 new entries (replace mode).\n",
      "✅ There are now 30 total rows in table 'emails'.\n",
      "\n",
      "Here’s a preview of the table:\n",
      "0             Application Status Update\n",
      "1                   Scholarship Inquiry\n",
      "2          Applicant Interview Schedule\n",
      "3        Admission Letter for Candidate\n",
      "4    Missing Transcript for Application\n",
      "Name: Subject, dtype: object\n"
     ]
    }
   ],
   "source": [
    "update(\"data/demo_emails.csv\",\n",
    "       db_path=\"db/dataset.db\",\n",
    "       table= \"emails\",\n",
    "       if_exists= \"replace\") # change to append after first feeding"
   ]
  },
  {
   "cell_type": "markdown",
   "id": "ec8b06d4",
   "metadata": {},
   "source": [
    "# Model Training and Evaluate"
   ]
  },
  {
   "cell_type": "code",
   "execution_count": 7,
   "id": "aaf41172",
   "metadata": {},
   "outputs": [],
   "source": [
    "from train_model import train_and_evaluate"
   ]
  },
  {
   "cell_type": "code",
   "execution_count": 23,
   "id": "d5e630fa",
   "metadata": {},
   "outputs": [
    {
     "name": "stdout",
     "output_type": "stream",
     "text": [
      "Main Category Report:\n",
      "                 precision    recall  f1-score   support\n",
      "\n",
      "Administration       0.50      0.33      0.40         3\n",
      "    Admissions       0.67      1.00      0.80         2\n",
      "       Courses       0.00      0.00      0.00         1\n",
      "\n",
      "      accuracy                           0.50         6\n",
      "     macro avg       0.39      0.44      0.40         6\n",
      "  weighted avg       0.47      0.50      0.47         6\n",
      "\n",
      "Sub Category Report:\n",
      "                     precision    recall  f1-score   support\n",
      "\n",
      "            Appeal       0.00      0.00      0.00       1.0\n",
      "Application Status       0.00      0.00      0.00       0.0\n",
      "     Course Change       0.00      0.00      0.00       0.0\n",
      "       Fee Payment       0.00      0.00      0.00       1.0\n",
      "    Lab Scheduling       0.00      0.00      0.00       1.0\n",
      "       Maintenance       0.00      0.00      0.00       1.0\n",
      "          Meetings       0.00      0.00      0.00       1.0\n",
      "      Offer Letter       0.00      0.00      0.00       0.0\n",
      "    Policy Updates       0.00      0.00      0.00       1.0\n",
      "            Safety       0.00      0.00      0.00       0.0\n",
      "          Training       0.00      0.00      0.00       0.0\n",
      "\n",
      "          accuracy                           0.00       6.0\n",
      "         macro avg       0.00      0.00      0.00       6.0\n",
      "      weighted avg       0.00      0.00      0.00       6.0\n",
      "\n"
     ]
    }
   ],
   "source": [
    "train_and_evaluate(db_path='db/dataset.db',\n",
    "                   table= 'emails',\n",
    "                   report_file='reports/classification_report_1.txt',\n",
    "                   test_size= 0.2,\n",
    "                   random_state= None)"
   ]
  },
  {
   "cell_type": "markdown",
   "id": "8032f7a1",
   "metadata": {},
   "source": [
    "# Prediction with OCR"
   ]
  },
  {
   "cell_type": "code",
   "execution_count": 25,
   "id": "2ab2999d",
   "metadata": {},
   "outputs": [],
   "source": [
    "import joblib\n",
    "from predict import ocr_predict"
   ]
  },
  {
   "cell_type": "code",
   "execution_count": 26,
   "id": "236b1cdf",
   "metadata": {},
   "outputs": [
    {
     "name": "stdout",
     "output_type": "stream",
     "text": [
      "OCR Subject: Annual Budget Meeting Rescheduled\n",
      "Predicted → Main: Administration | Sub: Budget\n"
     ]
    }
   ],
   "source": [
    "vec = joblib.load(\"model/tfidf_vectorizer.joblib\")\n",
    "model = joblib.load(\"model/multioutput_classifier.joblib\")\n",
    "\n",
    "# Subject-line screen region (x, y, width, height)\n",
    "region = (1346, 140, 280, 26)\n",
    "\n",
    "# One call: capture → OCR → predict\n",
    "subject_text, main, sub = ocr_predict(region, vec, model, debug=True)"
   ]
  }
 ],
 "metadata": {
  "kernelspec": {
   "display_name": ".venv",
   "language": "python",
   "name": "python3"
  },
  "language_info": {
   "codemirror_mode": {
    "name": "ipython",
    "version": 3
   },
   "file_extension": ".py",
   "mimetype": "text/x-python",
   "name": "python",
   "nbconvert_exporter": "python",
   "pygments_lexer": "ipython3",
   "version": "3.13.7"
  }
 },
 "nbformat": 4,
 "nbformat_minor": 5
}
